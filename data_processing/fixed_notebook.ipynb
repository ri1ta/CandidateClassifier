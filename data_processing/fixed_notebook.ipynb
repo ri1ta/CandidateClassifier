{
 "cells": [
  {
   "cell_type": "code",
   "execution_count": 41,
   "metadata": {},
   "outputs": [
    {
     "name": "stdout",
     "output_type": "stream",
     "text": [
      "BIO данные успешно сохранены в файл: bio_data_cleaned.tsv\n"
     ]
    }
   ],
   "source": [
    "import json\n",
    "import re\n",
    "from transformers import AutoTokenizer\n",
    "\n",
    "# Загрузка токенизатора\n",
    "tokenizer = AutoTokenizer.from_pretrained(\"DeepPavlov/rubert-base-cased\")\n",
    "MAX_SEQ_LEN = 512\n",
    "\n",
    "# Функция для нормализации текста\n",
    "def normalize_text(text):\n",
    "    # Приводим текст к нижнему регистру\n",
    "    text = text.lower()\n",
    "    return text\n",
    "\n",
    "# Функция для разделения текста на сегменты\n",
    "def split_text_into_chunks(text, max_length=MAX_SEQ_LEN):\n",
    "    sentences = re.split(r'(?<=\\.)\\s+', text)  # Разделяем по предложениям\n",
    "    chunks = []\n",
    "    current_chunk = []\n",
    "    current_length = 0\n",
    "\n",
    "    for sentence in sentences:\n",
    "        tokenized_sentence = tokenizer.tokenize(sentence)\n",
    "        if current_length + len(tokenized_sentence) > max_length:\n",
    "            chunks.append(current_chunk)\n",
    "            current_chunk = []\n",
    "            current_length = 0\n",
    "        current_chunk.append(sentence)\n",
    "        current_length += len(tokenized_sentence)\n",
    "\n",
    "    if current_chunk:\n",
    "        chunks.append(current_chunk)\n",
    "\n",
    "    return [' '.join(chunk) for chunk in chunks]\n",
    "\n",
    "# Функция для преобразования JSON в BIO с учетом длинных текстов\n",
    "def convert_to_bio_with_chunks(json_path, output_path):\n",
    "    with open(json_path, 'r', encoding='utf-8') as file:\n",
    "        data = json.load(file)\n",
    "\n",
    "    bio_data = []\n",
    "    for record in data:\n",
    "        text = record[\"data\"][\"text\"]\n",
    "        entities = record[\"annotations\"][0][\"result\"] if record[\"annotations\"] else []\n",
    "\n",
    "        # Нормализуем текст\n",
    "        text = normalize_text(text)\n",
    "\n",
    "        # Разбиваем текст на сегменты\n",
    "        chunks = split_text_into_chunks(text)\n",
    "\n",
    "        for chunk in chunks:\n",
    "            tokenized_text = tokenizer.tokenize(chunk)\n",
    "            token_labels = [\"O\"] * len(tokenized_text)\n",
    "\n",
    "            # Присваиваем метки сущности для токенов\n",
    "            for entity in entities:\n",
    "                if \"value\" in entity:\n",
    "                    start = entity[\"value\"][\"start\"]\n",
    "                    end = entity[\"value\"][\"end\"]\n",
    "                    label = entity[\"value\"][\"labels\"][0]\n",
    "                    char_index = 0\n",
    "\n",
    "                    i = 0\n",
    "                    while i < len(tokenized_text):\n",
    "                        token = tokenized_text[i]\n",
    "                        token_start = chunk.find(token, char_index)\n",
    "                        token_end = token_start + len(token)\n",
    "                        char_index = token_end\n",
    "\n",
    "                        # Присваиваем метки для подслова, если это часть сущности\n",
    "                        if token_start >= start and token_end <= end:\n",
    "                            if token_start == start:\n",
    "                                token_labels[i] = f\"B-{label}\"  # Начало сущности\n",
    "                            elif token_start > start:\n",
    "                                token_labels[i] = f\"I-{label}\"  # Части сущности\n",
    "\n",
    "                        i += 1\n",
    "\n",
    "            # Обрабатываем продолжения слов с \"##\" и добавляем метки\n",
    "            for i in range(1, len(tokenized_text)):\n",
    "                if tokenized_text[i].startswith('##'):\n",
    "                    token_labels[i] = token_labels[i - 1]  # Передаем метку от предыдущего токена\n",
    "\n",
    "            # Добавляем токены и их метки в результат\n",
    "            for token, label in zip(tokenized_text, token_labels):\n",
    "                bio_data.append(f\"{token}\\t{label}\")\n",
    "            bio_data.append(\"\")  # Пустая строка для разделения предложений\n",
    "\n",
    "    # Сохраняем в файл в формате TSV\n",
    "    with open(output_path, 'w', encoding='utf-8') as output_file:\n",
    "        output_file.write(\"\\n\".join(bio_data))\n",
    "\n",
    "    print(f\"BIO данные успешно сохранены в файл: {output_path}\")\n",
    "\n",
    "# Вызов функции\n",
    "json_path = \"/Users/rii_beltz/Downloads/project-5-at-2025-01-10-14-23-dbeec074.json\"  # Путь к вашему JSON файлу\n",
    "output_path = \"bio_data_cleaned.tsv\"  # Имя выходного файла\n",
    "\n",
    "convert_to_bio_with_chunks(json_path, output_path)\n"
   ]
  },
  {
   "cell_type": "code",
   "execution_count": null,
   "metadata": {},
   "outputs": [],
   "source": []
  },
  {
   "cell_type": "code",
   "execution_count": 7,
   "metadata": {},
   "outputs": [
    {
     "name": "stdout",
     "output_type": "stream",
     "text": [
      "['/Users/rii_beltz/.pyenv/versions/3.10.12/lib/python310.zip', '/Users/rii_beltz/.pyenv/versions/3.10.12/lib/python3.10', '/Users/rii_beltz/.pyenv/versions/3.10.12/lib/python3.10/lib-dynload', '', '/Users/rii_beltz/.pyenv/versions/3.10.12/lib/python3.10/site-packages']\n"
     ]
    }
   ],
   "source": [
    "import sys\n",
    "print(sys.path)\n"
   ]
  },
  {
   "cell_type": "code",
   "execution_count": 13,
   "metadata": {},
   "outputs": [
    {
     "name": "stdout",
     "output_type": "stream",
     "text": [
      "0.9.1\n"
     ]
    }
   ],
   "source": [
    "import pymorphy2\n",
    "print(pymorphy2.__version__)\n"
   ]
  },
  {
   "cell_type": "code",
   "execution_count": 14,
   "metadata": {},
   "outputs": [
    {
     "ename": "NameError",
     "evalue": "name 'text' is not defined",
     "output_type": "error",
     "traceback": [
      "\u001b[0;31m---------------------------------------------------------------------------\u001b[0m",
      "\u001b[0;31mNameError\u001b[0m                                 Traceback (most recent call last)",
      "Cell \u001b[0;32mIn[14], line 1\u001b[0m\n\u001b[0;32m----> 1\u001b[0m \u001b[38;5;28mprint\u001b[39m(\u001b[43mtext\u001b[49m)  \u001b[38;5;66;03m# Исходный текст\u001b[39;00m\n\u001b[1;32m      2\u001b[0m \u001b[38;5;28mprint\u001b[39m(tokens)  \u001b[38;5;66;03m# Токены после токенизации\u001b[39;00m\n",
      "\u001b[0;31mNameError\u001b[0m: name 'text' is not defined"
     ]
    }
   ],
   "source": [
    "print(text)  # Исходный текст\n",
    "print(tokens)  # Токены после токенизации\n"
   ]
  }
 ],
 "metadata": {
  "kernelspec": {
   "display_name": "3.10.12",
   "language": "python",
   "name": "python3"
  },
  "language_info": {
   "codemirror_mode": {
    "name": "ipython",
    "version": 3
   },
   "file_extension": ".py",
   "mimetype": "text/x-python",
   "name": "python",
   "nbconvert_exporter": "python",
   "pygments_lexer": "ipython3",
   "version": "3.10.12"
  }
 },
 "nbformat": 4,
 "nbformat_minor": 2
}
