{
 "cells": [
  {
   "cell_type": "code",
   "execution_count": 41,
   "metadata": {},
   "outputs": [
    {
     "name": "stdout",
     "output_type": "stream",
     "text": [
      "BIO данные успешно сохранены в файл: bio_data_cleaned.tsv\n"
     ]
    }
   ],
   "source": [
    "import json\n",
    "import re\n",
    "from transformers import AutoTokenizer\n",
    "\n",
    "tokenizer = AutoTokenizer.from_pretrained(\"DeepPavlov/rubert-base-cased\")\n",
    "MAX_SEQ_LEN = 512\n",
    "\n",
    "def normalize_text(text):\n",
    "    text = text.lower()\n",
    "    return text\n",
    "\n",
    "def split_text_into_chunks(text, max_length=MAX_SEQ_LEN):\n",
    "    sentences = re.split(r'(?<=\\.)\\s+', text)\n",
    "    chunks = []\n",
    "    current_chunk = []\n",
    "    current_length = 0\n",
    "\n",
    "    for sentence in sentences:\n",
    "        tokenized_sentence = tokenizer.tokenize(sentence)\n",
    "        if current_length + len(tokenized_sentence) > max_length:\n",
    "            chunks.append(current_chunk)\n",
    "            current_chunk = []\n",
    "            current_length = 0\n",
    "        current_chunk.append(sentence)\n",
    "        current_length += len(tokenized_sentence)\n",
    "\n",
    "    if current_chunk:\n",
    "        chunks.append(current_chunk)\n",
    "\n",
    "    return [' '.join(chunk) for chunk in chunks]\n",
    "\n",
    "def convert_to_bio_with_chunks(json_path, output_path):\n",
    "    with open(json_path, 'r', encoding='utf-8') as file:\n",
    "        data = json.load(file)\n",
    "\n",
    "    bio_data = []\n",
    "    for record in data:\n",
    "        text = record[\"data\"][\"text\"]\n",
    "        entities = record[\"annotations\"][0][\"result\"] if record[\"annotations\"] else []\n",
    "\n",
    "        text = normalize_text(text)\n",
    "\n",
    "        chunks = split_text_into_chunks(text)\n",
    "\n",
    "        for chunk in chunks:\n",
    "            tokenized_text = tokenizer.tokenize(chunk)\n",
    "            token_labels = [\"O\"] * len(tokenized_text)\n",
    "\n",
    "            for entity in entities:\n",
    "                if \"value\" in entity:\n",
    "                    start = entity[\"value\"][\"start\"]\n",
    "                    end = entity[\"value\"][\"end\"]\n",
    "                    label = entity[\"value\"][\"labels\"][0]\n",
    "                    char_index = 0\n",
    "\n",
    "                    i = 0\n",
    "                    while i < len(tokenized_text):\n",
    "                        token = tokenized_text[i]\n",
    "                        token_start = chunk.find(token, char_index)\n",
    "                        token_end = token_start + len(token)\n",
    "                        char_index = token_end\n",
    "\n",
    "                        if token_start >= start and token_end <= end:\n",
    "                            if token_start == start:\n",
    "                                token_labels[i] = f\"B-{label}\"\n",
    "                            elif token_start > start:\n",
    "                                token_labels[i] = f\"I-{label}\"\n",
    "\n",
    "                        i += 1\n",
    "\n",
    "            for i in range(1, len(tokenized_text)):\n",
    "                if tokenized_text[i].startswith('##'):\n",
    "                    token_labels[i] = token_labels[i - 1]\n",
    "\n",
    "            for token, label in zip(tokenized_text, token_labels):\n",
    "                bio_data.append(f\"{token}\\t{label}\")\n",
    "            bio_data.append(\"\")\n",
    "\n",
    "    with open(output_path, 'w', encoding='utf-8') as output_file:\n",
    "        output_file.write(\"\\n\".join(bio_data))\n",
    "\n",
    "    print(f\"BIO данные успешно сохранены в файл: {output_path}\")\n",
    "\n",
    "json_path = \"/Users/rii_beltz/Downloads/project-5-at-2025-01-10-14-23-dbeec074.json\"\n",
    "output_path = \"bio_data_cleaned.tsv\"\n",
    "\n",
    "convert_to_bio_with_chunks(json_path, output_path)\n"
   ]
  },
  {
   "cell_type": "code",
   "execution_count": 7,
   "metadata": {},
   "outputs": [
    {
     "name": "stdout",
     "output_type": "stream",
     "text": [
      "['/Users/rii_beltz/.pyenv/versions/3.10.12/lib/python310.zip', '/Users/rii_beltz/.pyenv/versions/3.10.12/lib/python3.10', '/Users/rii_beltz/.pyenv/versions/3.10.12/lib/python3.10/lib-dynload', '', '/Users/rii_beltz/.pyenv/versions/3.10.12/lib/python3.10/site-packages']\n"
     ]
    }
   ],
   "source": [
    "import sys\n",
    "print(sys.path)\n"
   ]
  },
  {
   "cell_type": "code",
   "execution_count": 13,
   "metadata": {},
   "outputs": [
    {
     "name": "stdout",
     "output_type": "stream",
     "text": [
      "0.9.1\n"
     ]
    }
   ],
   "source": [
    "import pymorphy2\n",
    "print(pymorphy2.__version__)\n"
   ]
  }
 ],
 "metadata": {
  "kernelspec": {
   "display_name": "3.10.12",
   "language": "python",
   "name": "python3"
  },
  "language_info": {
   "codemirror_mode": {
    "name": "ipython",
    "version": 3
   },
   "file_extension": ".py",
   "mimetype": "text/x-python",
   "name": "python",
   "nbconvert_exporter": "python",
   "pygments_lexer": "ipython3",
   "version": "3.10.12"
  }
 },
 "nbformat": 4,
 "nbformat_minor": 2
}
